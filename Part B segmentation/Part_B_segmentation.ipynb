{
  "nbformat": 4,
  "nbformat_minor": 0,
  "metadata": {
    "colab": {
      "provenance": [],
      "gpuType": "T4"
    },
    "kernelspec": {
      "name": "python3",
      "display_name": "Python 3"
    },
    "language_info": {
      "name": "python"
    },
    "accelerator": "GPU"
  },
  "cells": [
    {
      "cell_type": "markdown",
      "source": [
        "Part B"
      ],
      "metadata": {
        "id": "rqLXHHXusMQI"
      }
    },
    {
      "cell_type": "code",
      "source": [
        "from google.colab import drive\n",
        "drive.mount('/content/drive')"
      ],
      "metadata": {
        "id": "GmiL9GHy9ZeD",
        "colab": {
          "base_uri": "https://localhost:8080/"
        },
        "outputId": "2ff1d497-5c29-40bb-a7da-2670955ac418"
      },
      "execution_count": 1,
      "outputs": [
        {
          "output_type": "stream",
          "name": "stdout",
          "text": [
            "Drive already mounted at /content/drive; to attempt to forcibly remount, call drive.mount(\"/content/drive\", force_remount=True).\n"
          ]
        }
      ]
    },
    {
      "cell_type": "code",
      "source": [
        "import os\n",
        "import numpy as np\n",
        "import cv2\n",
        "from sklearn.model_selection import train_test_split\n",
        "from tensorflow import keras\n",
        "from tensorflow.keras import layers\n",
        "from tensorflow.keras.preprocessing.image import ImageDataGenerator\n",
        "\n",
        "# Define constants\n",
        "IMAGE_DIR = '/content/drive/MyDrive/Task - Segmentation-20240128T101536Z-001/Task - Segmentation/images'\n",
        "MASK_DIR = '/content/drive/MyDrive/Task - Segmentation-20240128T101536Z-001/Task - Segmentation/masks'\n",
        "IMAGE_SIZE = (256, 256)\n",
        "BATCH_SIZE = 16\n",
        "EPOCHS = 10\n",
        "TEST_SPLIT = 0.10 # Percentage of data to use for testing\n",
        "VAL_SPLIT = 0.3 # Percentage of data to use for validation\n",
        "\n",
        "# Load images and masks\n",
        "image_files = os.listdir(IMAGE_DIR)\n",
        "mask_files = os.listdir(MASK_DIR)\n",
        "image_files.sort()\n",
        "mask_files.sort()\n",
        "\n",
        "images = []\n",
        "masks = []\n",
        "\n",
        "for img_file, mask_file in zip(image_files, mask_files):\n",
        "    img_path = os.path.join(IMAGE_DIR, img_file)\n",
        "    mask_path = os.path.join(MASK_DIR, mask_file)\n",
        "\n",
        "    img = cv2.imread(img_path)\n",
        "    img = cv2.resize(img, IMAGE_SIZE)\n",
        "    img = img / 255.0  # Normalize\n",
        "\n",
        "    mask = cv2.imread(mask_path, cv2.IMREAD_GRAYSCALE)\n",
        "    mask = cv2.resize(mask, IMAGE_SIZE)\n",
        "    mask = np.expand_dims(mask, axis=-1)\n",
        "    mask = mask / 255.0  # Normalize\n",
        "\n",
        "    images.append(img)\n",
        "    masks.append(mask)\n",
        "\n",
        "images = np.array(images)\n",
        "masks = np.array(masks)\n",
        "\n",
        "# Split data into training, validation, and testing sets\n",
        "X_train, X_test, y_train, y_test = train_test_split(images, masks, test_size=TEST_SPLIT, random_state=42)\n",
        "X_train, X_val, y_train, y_val = train_test_split(X_train, y_train, test_size=VAL_SPLIT, random_state=42)\n",
        "\n",
        "# Data augmentation\n",
        "train_datagen = ImageDataGenerator(\n",
        "    rotation_range=20,\n",
        "    width_shift_range=0.1,\n",
        "    height_shift_range=0.1,\n",
        "    shear_range=0.1,\n",
        "    zoom_range=0.1,\n",
        "    horizontal_flip=True,\n",
        "    fill_mode='nearest'\n",
        ")\n",
        "\n",
        "val_datagen = ImageDataGenerator()\n",
        "\n",
        "train_generator = train_datagen.flow(X_train, y_train, batch_size=BATCH_SIZE)\n",
        "val_generator = val_datagen.flow(X_val, y_val, batch_size=BATCH_SIZE)\n",
        "\n",
        "# Define U-Net model\n",
        "def unet_model(input_shape):\n",
        "    inputs = keras.Input(shape=input_shape)\n",
        "\n",
        "    # Encoder\n",
        "    conv1 = layers.Conv2D(64, 3, activation='relu', padding='same')(inputs)\n",
        "    conv1 = layers.Conv2D(64, 3, activation='relu', padding='same')(conv1)\n",
        "    pool1 = layers.MaxPooling2D(pool_size=(2, 2))(conv1)\n",
        "\n",
        "    conv2 = layers.Conv2D(128, 3, activation='relu', padding='same')(pool1)\n",
        "    conv2 = layers.Conv2D(128, 3, activation='relu', padding='same')(conv2)\n",
        "    pool2 = layers.MaxPooling2D(pool_size=(2, 2))(conv2)\n",
        "\n",
        "    # Decoder\n",
        "    conv3 = layers.Conv2D(256, 3, activation='relu', padding='same')(pool2)\n",
        "    conv3 = layers.Conv2D(256, 3, activation='relu', padding='same')(conv3)\n",
        "    up1 = layers.UpSampling2D(size=(2, 2))(conv3)\n",
        "\n",
        "    concat1 = layers.concatenate([conv2, up1], axis=-1)\n",
        "    conv4 = layers.Conv2D(128, 3, activation='relu', padding='same')(concat1)\n",
        "    conv4 = layers.Conv2D(128, 3, activation='relu', padding='same')(conv4)\n",
        "\n",
        "    up2 = layers.UpSampling2D(size=(2, 2))(conv4)\n",
        "    concat2 = layers.concatenate([conv1, up2], axis=-1)\n",
        "    conv5 = layers.Conv2D(64, 3, activation='relu', padding='same')(concat2)\n",
        "    conv5 = layers.Conv2D(64, 3, activation='relu', padding='same')(conv5)\n",
        "\n",
        "    outputs = layers.Conv2D(1, 1, activation='sigmoid')(conv5)\n",
        "\n",
        "    model = keras.Model(inputs=inputs, outputs=outputs)\n",
        "    return model\n",
        "\n",
        "# Create and compile the model\n",
        "model = unet_model(input_shape=(IMAGE_SIZE[0], IMAGE_SIZE[1], 3))\n",
        "model.compile(optimizer='adam', loss='binary_crossentropy', metrics=['accuracy'])\n",
        "\n",
        "# Train the model\n",
        "history = model.fit(\n",
        "    train_generator,\n",
        "    steps_per_epoch=len(X_train) // BATCH_SIZE,\n",
        "    epochs=EPOCHS,\n",
        "    validation_data=val_generator,\n",
        "    validation_steps=len(X_val) // BATCH_SIZE\n",
        ")\n",
        "\n",
        "# Evaluate the model on the test set\n",
        "test_loss, test_accuracy = model.evaluate(X_test, y_test, batch_size=BATCH_SIZE)\n",
        "\n",
        "print(\"Test Loss:\", test_loss)\n",
        "print(\"Test Accuracy:\", test_accuracy)\n",
        "\n",
        "# Save the model\n",
        "model.save('cranium_segmentation_model.h5')\n",
        "model.save_weights('Part_B_model_weights_hypothesis.h5')\n",
        "import matplotlib.pyplot as plt\n",
        "\n",
        "# Plot training & validation accuracy values\n",
        "plt.plot(history.history['accuracy'])\n",
        "plt.plot(history.history['val_accuracy'])\n",
        "plt.title('Model accuracy')\n",
        "plt.xlabel('Epoch')\n",
        "plt.ylabel('Accuracy')\n",
        "plt.legend(['Train', 'Validation'], loc='upper left')\n",
        "plt.show()"
      ],
      "metadata": {
        "colab": {
          "base_uri": "https://localhost:8080/",
          "height": 871
        },
        "id": "IKjDCq5ED-TB",
        "outputId": "2373a89e-5718-4bb2-a331-857da0381b44"
      },
      "execution_count": 7,
      "outputs": [
        {
          "output_type": "stream",
          "name": "stdout",
          "text": [
            "Epoch 1/10\n",
            "24/24 [==============================] - 48s 1s/step - loss: 0.1418 - accuracy: 0.9584 - val_loss: 0.0461 - val_accuracy: 0.9893\n",
            "Epoch 2/10\n",
            "24/24 [==============================] - 14s 592ms/step - loss: 0.0452 - accuracy: 0.9893 - val_loss: 0.0423 - val_accuracy: 0.9893\n",
            "Epoch 3/10\n",
            "24/24 [==============================] - 15s 608ms/step - loss: 0.0421 - accuracy: 0.9893 - val_loss: 0.0396 - val_accuracy: 0.9893\n",
            "Epoch 4/10\n",
            "24/24 [==============================] - 13s 546ms/step - loss: 0.0407 - accuracy: 0.9893 - val_loss: 0.0394 - val_accuracy: 0.9893\n",
            "Epoch 5/10\n",
            "24/24 [==============================] - 13s 548ms/step - loss: 0.0403 - accuracy: 0.9893 - val_loss: 0.0388 - val_accuracy: 0.9893\n",
            "Epoch 6/10\n",
            "24/24 [==============================] - 13s 549ms/step - loss: 0.0405 - accuracy: 0.9893 - val_loss: 0.0387 - val_accuracy: 0.9894\n",
            "Epoch 7/10\n",
            "24/24 [==============================] - 14s 594ms/step - loss: 0.0401 - accuracy: 0.9893 - val_loss: 0.0381 - val_accuracy: 0.9893\n",
            "Epoch 8/10\n",
            "24/24 [==============================] - 14s 589ms/step - loss: 0.0402 - accuracy: 0.9893 - val_loss: 0.0383 - val_accuracy: 0.9893\n",
            "Epoch 9/10\n",
            "24/24 [==============================] - 14s 590ms/step - loss: 0.0402 - accuracy: 0.9893 - val_loss: 0.0380 - val_accuracy: 0.9893\n",
            "Epoch 10/10\n",
            "24/24 [==============================] - 14s 591ms/step - loss: 0.0403 - accuracy: 0.9892 - val_loss: 0.0381 - val_accuracy: 0.9894\n",
            "4/4 [==============================] - 1s 156ms/step - loss: 0.0397 - accuracy: 0.9887\n",
            "Test Loss: 0.0396796390414238\n",
            "Test Accuracy: 0.9887477159500122\n"
          ]
        },
        {
          "output_type": "display_data",
          "data": {
            "text/plain": [
              "<Figure size 640x480 with 1 Axes>"
            ],
            "image/png": "[encoded data removed]"
          },
          "metadata": {}
        }
      ]
    }
  ]
}